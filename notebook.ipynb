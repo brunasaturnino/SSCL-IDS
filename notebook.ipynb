{
 "cells": [
  {
   "cell_type": "code",
   "execution_count": 1,
   "id": "80e1dd9f",
   "metadata": {},
   "outputs": [
    {
     "name": "stdout",
     "output_type": "stream",
     "text": [
      "Amostra salva com 254005 linhas em 'Dataset/sample-unsw.csv'\n"
     ]
    }
   ],
   "source": [
    "import pandas as pd\n",
    "\n",
    "# Caminho para o dataset original\n",
    "input_path = \"Dataset/dataset-unsw.csv\"\n",
    "\n",
    "# Caminho para salvar a amostra\n",
    "output_path = \"Dataset/sample-unsw.csv\"\n",
    "\n",
    "# Porcentagem da amostra (ex: 10%)\n",
    "sample_fraction = 0.1\n",
    "\n",
    "# Carrega o dataset\n",
    "df = pd.read_csv(input_path)\n",
    "\n",
    "# Cria a amostra\n",
    "sample_df = df.sample(frac=sample_fraction, random_state=42)\n",
    "\n",
    "# Salva a amostra\n",
    "sample_df.to_csv(output_path, index=False)\n",
    "\n",
    "print(f\"Amostra salva com {len(sample_df)} linhas em '{output_path}'\")\n"
   ]
  },
  {
   "cell_type": "code",
   "execution_count": 3,
   "id": "d41814d0",
   "metadata": {},
   "outputs": [
    {
     "name": "stdout",
     "output_type": "stream",
     "text": [
      "Amostra salva com 164734 linhas em 'Dataset/sample-cicdos.csv'\n",
      "- Benignos: 13926\n",
      "- Ataques amostrados: 150808\n"
     ]
    }
   ],
   "source": [
    "import pandas as pd\n",
    "\n",
    "# Caminho para o dataset original\n",
    "input_path = \"Dataset/dataset-cicdos.csv\"\n",
    "\n",
    "# Caminho para salvar a amostra\n",
    "output_path = \"Dataset/sample-cicdos.csv\"\n",
    "\n",
    "# Porcentagem da amostra de ataques (ex: 10%)\n",
    "attack_sample_fraction = 0.05\n",
    "\n",
    "# Carrega o dataset\n",
    "df = pd.read_csv(input_path)\n",
    "\n",
    "# Garante que a coluna Label esteja limpa\n",
    "df.columns = df.columns.str.strip()\n",
    "\n",
    "# Separa benignos e ataques\n",
    "benign_df = df[df['Label'] == 0]\n",
    "attack_df = df[df['Label'] == 1]\n",
    "\n",
    "# Amostra aleatória dos ataques\n",
    "attack_sample = attack_df.sample(frac=attack_sample_fraction, random_state=42)\n",
    "\n",
    "# Junta todos os benignos com parte dos ataques\n",
    "final_sample = pd.concat([benign_df, attack_sample], ignore_index=True)\n",
    "\n",
    "# Embaralha o resultado final (opcional, mas recomendável)\n",
    "final_sample = final_sample.sample(frac=1, random_state=42).reset_index(drop=True)\n",
    "\n",
    "# Salva a amostra\n",
    "final_sample.to_csv(output_path, index=False)\n",
    "\n",
    "print(f\"Amostra salva com {len(final_sample)} linhas em '{output_path}'\")\n",
    "print(f\"- Benignos: {len(benign_df)}\")\n",
    "print(f\"- Ataques amostrados: {len(attack_sample)}\")\n"
   ]
  },
  {
   "cell_type": "code",
   "execution_count": 3,
   "id": "87c64066",
   "metadata": {},
   "outputs": [
    {
     "name": "stdout",
     "output_type": "stream",
     "text": [
      "Contagem por tipo:\n",
      "Label\n",
      "1    3016167\n",
      "0      13926\n",
      "Name: count, dtype: int64\n"
     ]
    }
   ],
   "source": [
    "import pandas as pd\n",
    "\n",
    "# Caminho para o seu dataset\n",
    "caminho_csv =  \"Dataset/dataset-cicdos.csv\"\n",
    "\n",
    "# Lê o dataset\n",
    "df = pd.read_csv(caminho_csv)\n",
    "\n",
    "# Conta quantas amostras há de cada tipo na coluna 'Label'\n",
    "contagem = df['Label'].value_counts()\n",
    "\n",
    "# Mostra o resultado\n",
    "print(\"Contagem por tipo:\")\n",
    "print(contagem)\n"
   ]
  },
  {
   "cell_type": "code",
   "execution_count": 14,
   "id": "c8a083ed",
   "metadata": {},
   "outputs": [
    {
     "name": "stdout",
     "output_type": "stream",
     "text": [
      "Contagem por tipo de tráfego:\n",
      "Label\n",
      "0    2218764\n",
      "1     321283\n",
      "Name: count, dtype: int64\n"
     ]
    }
   ],
   "source": [
    "import pandas as pd\n",
    "\n",
    "caminho_csv = \"Dataset/UNSW/UNSW-NB15-all.csv\"\n",
    "\n",
    "df = pd.read_csv(caminho_csv, low_memory=False)  # evitar warnings\n",
    "\n",
    "df.columns = df.columns.str.strip()  # limpa nomes das colunas\n",
    "\n",
    "if 'Label' in df.columns:\n",
    "    df['Label'] = df['Label'].astype(str).str.strip()\n",
    "    print(\"Contagem por tipo de tráfego:\")\n",
    "    print(df['Label'].value_counts())\n",
    "else:\n",
    "    print(\"❌ Coluna 'Label' não encontrada. Verifique os nomes das colunas:\")\n",
    "    print(df.columns.tolist())\n"
   ]
  },
  {
   "cell_type": "code",
   "execution_count": 6,
   "id": "e9bb0b18",
   "metadata": {},
   "outputs": [
    {
     "name": "stdout",
     "output_type": "stream",
     "text": [
      "Amostra salva com 283074 linhas em 'Dataset/CICIDS-2017/sample.csv'\n"
     ]
    }
   ],
   "source": [
    "import pandas as pd\n",
    "\n",
    "# Caminho para o dataset original\n",
    "input_path = \"Dataset/CICIDS-2017/dataset.csv\"\n",
    "\n",
    "# Caminho para salvar a amostra\n",
    "output_path = \"Dataset/CICIDS-2017/sample.csv\"\n",
    "\n",
    "# Porcentagem da amostra (ex: 10%)\n",
    "sample_fraction = 0.1\n",
    "\n",
    "# Carrega o dataset\n",
    "df = pd.read_csv(input_path)\n",
    "\n",
    "# Cria a amostra\n",
    "sample_df = df.sample(frac=sample_fraction, random_state=42)\n",
    "\n",
    "# Salva a amostra\n",
    "sample_df.to_csv(output_path, index=False)\n",
    "\n",
    "print(f\"Amostra salva com {len(sample_df)} linhas em '{output_path}'\")\n"
   ]
  }
 ],
 "metadata": {
  "kernelspec": {
   "display_name": "Python 3",
   "language": "python",
   "name": "python3"
  },
  "language_info": {
   "codemirror_mode": {
    "name": "ipython",
    "version": 3
   },
   "file_extension": ".py",
   "mimetype": "text/x-python",
   "name": "python",
   "nbconvert_exporter": "python",
   "pygments_lexer": "ipython3",
   "version": "3.10.12"
  }
 },
 "nbformat": 4,
 "nbformat_minor": 5
}
