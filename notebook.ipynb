{
 "cells": [
  {
   "cell_type": "code",
   "execution_count": 1,
   "id": "80e1dd9f",
   "metadata": {},
   "outputs": [
    {
     "name": "stdout",
     "output_type": "stream",
     "text": [
      "Amostra salva com 1415372 linhas em 'datasets/CICIDS-2017/sample.csv'\n"
     ]
    }
   ],
   "source": [
    "import pandas as pd\n",
    "\n",
    "# Caminho para o dataset original\n",
    "input_path = \"datasets/CICIDS-2017/dataset.csv\"\n",
    "\n",
    "# Caminho para salvar a amostra\n",
    "output_path = \"datasets/CICIDS-2017/sample.csv\"\n",
    "\n",
    "# Porcentagem da amostra (ex: 10%)\n",
    "sample_fraction = 0.5\n",
    "\n",
    "# Carrega o dataset\n",
    "df = pd.read_csv(input_path)\n",
    "\n",
    "# Cria a amostra\n",
    "sample_df = df.sample(frac=sample_fraction, random_state=42)\n",
    "\n",
    "# Salva a amostra\n",
    "sample_df.to_csv(output_path, index=False)\n",
    "\n",
    "print(f\"Amostra salva com {len(sample_df)} linhas em '{output_path}'\")\n"
   ]
  },
  {
   "cell_type": "code",
   "execution_count": 6,
   "id": "e9bb0b18",
   "metadata": {},
   "outputs": [
    {
     "name": "stdout",
     "output_type": "stream",
     "text": [
      "Amostra salva com 283074 linhas em 'Dataset/CICIDS-2017/sample.csv'\n"
     ]
    }
   ],
   "source": [
    "import pandas as pd\n",
    "\n",
    "# Caminho para o dataset original\n",
    "input_path = \"Dataset/CICIDS-2017/dataset.csv\"\n",
    "\n",
    "# Caminho para salvar a amostra\n",
    "output_path = \"Dataset/CICIDS-2017/sample.csv\"\n",
    "\n",
    "# Porcentagem da amostra (ex: 10%)\n",
    "sample_fraction = 0.1\n",
    "\n",
    "# Carrega o dataset\n",
    "df = pd.read_csv(input_path)\n",
    "\n",
    "# Cria a amostra\n",
    "sample_df = df.sample(frac=sample_fraction, random_state=42)\n",
    "\n",
    "# Salva a amostra\n",
    "sample_df.to_csv(output_path, index=False)\n",
    "\n",
    "print(f\"Amostra salva com {len(sample_df)} linhas em '{output_path}'\")\n"
   ]
  }
 ],
 "metadata": {
  "kernelspec": {
   "display_name": "Python 3",
   "language": "python",
   "name": "python3"
  },
  "language_info": {
   "codemirror_mode": {
    "name": "ipython",
    "version": 3
   },
   "file_extension": ".py",
   "mimetype": "text/x-python",
   "name": "python",
   "nbconvert_exporter": "python",
   "pygments_lexer": "ipython3",
   "version": "3.10.12"
  }
 },
 "nbformat": 4,
 "nbformat_minor": 5
}
